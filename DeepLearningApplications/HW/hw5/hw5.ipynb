{
 "cells": [
  {
   "cell_type": "code",
   "execution_count": 5,
   "metadata": {},
   "outputs": [],
   "source": [
    "import pandas as pd\n",
    "import numpy as np\n",
    "import torch\n",
    "import torch.nn as nn\n",
    "import torch.nn.functional as F\n",
    "from torch.utils.data import DataLoader, Dataset, random_split\n",
    "from sklearn.model_selection import train_test_split\n",
    "from sklearn.metrics import accuracy_score, f1_score, confusion_matrix\n",
    "from sklearn.preprocessing import LabelEncoder\n",
    "from torch.nn.utils.rnn import pad_sequence\n",
    "import re\n",
    "import matplotlib.pyplot as plt\n",
    "import seaborn as sns\n"
   ]
  },
  {
   "cell_type": "code",
   "execution_count": null,
   "metadata": {},
   "outputs": [
    {
     "name": "stdout",
     "output_type": "stream",
     "text": [
      "                                                text  spam\n",
      "0  Subject: naturally irresistible your corporate...     1\n",
      "1  Subject: the stock trading gunslinger  fanny i...     1\n",
      "2  Subject: unbelievable new homes made easy  im ...     1\n",
      "3  Subject: 4 color printing special  request add...     1\n",
      "4  Subject: do not have money , get software cds ...     1\n",
      "text    0\n",
      "spam    0\n",
      "dtype: int64\n",
      "spam\n",
      "0    4360\n",
      "1    1368\n",
      "Name: count, dtype: int64\n"
     ]
    }
   ],
   "source": [
    "df = pd.read_excel('emails.xlsx')  \n",
    "print(df.head())\n",
    "\n",
    "# Eksik veri var mı \n",
    "print(df.isnull().sum())\n",
    "\n",
    "# Etiketler\n",
    "print(df['spam'].value_counts())\n"
   ]
  },
  {
   "cell_type": "code",
   "execution_count": null,
   "metadata": {},
   "outputs": [
    {
     "name": "stdout",
     "output_type": "stream",
     "text": [
      "                                                text  \\\n",
      "0  Subject: naturally irresistible your corporate...   \n",
      "1  Subject: the stock trading gunslinger  fanny i...   \n",
      "2  Subject: unbelievable new homes made easy  im ...   \n",
      "3  Subject: 4 color printing special  request add...   \n",
      "4  Subject: do not have money , get software cds ...   \n",
      "\n",
      "                                          text_clean  \\\n",
      "0  subject naturally irresistible your corporate ...   \n",
      "1  subject the stock trading gunslinger fanny is ...   \n",
      "2  subject unbelievable new homes made easy im wa...   \n",
      "3  subject color printing special request additio...   \n",
      "4  subject do not have money get software cds fro...   \n",
      "\n",
      "                                              tokens  \n",
      "0  [subject, naturally, irresistible, your, corpo...  \n",
      "1  [subject, the, stock, trading, gunslinger, fan...  \n",
      "2  [subject, unbelievable, new, homes, made, easy...  \n",
      "3  [subject, color, printing, special, request, a...  \n",
      "4  [subject, do, not, have, money, get, software,...  \n"
     ]
    }
   ],
   "source": [
    "def clean_text(text):\n",
    "    text = text.lower()\n",
    "    text = re.sub(r\"[^a-zA-Z\\s]\", \"\", text)  # noktalama kaldır\n",
    "    text = re.sub(r\"\\s+\", \" \", text)  # fazla boşlukları temizle\n",
    "    return text.strip()\n",
    "\n",
    "\n",
    "df['text_clean'] = df['text'].apply(clean_text) # verileri temizle\n",
    "df['tokens'] = df['text_clean'].apply(lambda x: x.split()) # Tokenizasyon: kelimeleri boşlukla ayır\n",
    "# Örnek \n",
    "print(df[['text', 'text_clean', 'tokens']].head())\n"
   ]
  },
  {
   "cell_type": "code",
   "execution_count": 21,
   "metadata": {},
   "outputs": [
    {
     "name": "stdout",
     "output_type": "stream",
     "text": [
      "                                              tokens  \\\n",
      "0  [subject, naturally, irresistible, your, corpo...   \n",
      "1  [subject, the, stock, trading, gunslinger, fan...   \n",
      "2  [subject, unbelievable, new, homes, made, easy...   \n",
      "3  [subject, color, printing, special, request, a...   \n",
      "4  [subject, do, not, have, money, get, software,...   \n",
      "\n",
      "                                             encoded  \n",
      "0  [15, 5503, 11422, 17, 468, 1676, 3694, 13, 410...  \n",
      "1  [15, 2, 455, 171, 20353, 20354, 13, 4662, 70, ...  \n",
      "2  [15, 8631, 62, 4663, 270, 779, 3868, 4962, 3, ...  \n",
      "3  [15, 1961, 4070, 485, 182, 357, 61, 123, 230, ...  \n",
      "4  [15, 55, 39, 24, 216, 73, 229, 2587, 26, 87, 2...  \n",
      "Ortalama token uzunluğu: 227.32\n"
     ]
    }
   ],
   "source": [
    "# Tüm kelimeleri bir listede toplayıp ardından sıklıklarına göre sıralayacağız\n",
    "all_words = [word for tokens in df['tokens'] for word in tokens]\n",
    "\n",
    "# Kelimeleri sıklıklarına göre sıralamak için Counter kullanılabilir\n",
    "from collections import Counter\n",
    "word_counts = Counter(all_words)\n",
    "\n",
    "# En sık geçen kelimelere indeks ata\n",
    "vocab = {word: idx+2 for idx, (word, _) in enumerate(word_counts.most_common())}\n",
    "vocab[\"<PAD>\"] = 0\n",
    "vocab[\"<UNK>\"] = 1\n",
    "\n",
    "# Tokenleri indekslere çevir\n",
    "def encode_tokens(tokens, vocab):\n",
    "    return [vocab.get(token, vocab[\"<UNK>\"]) for token in tokens]\n",
    "\n",
    "df['encoded'] = df['tokens'].apply(lambda x: encode_tokens(x, vocab))\n",
    "mean_token_length = df['encoded'].apply(len).mean()\n",
    "# Örnek çıktı\n",
    "print(df[['tokens', 'encoded']].head())\n",
    "print(f\"Ortalama token uzunluğu: {mean_token_length:.2f}\")\n"
   ]
  },
  {
   "cell_type": "code",
   "execution_count": 10,
   "metadata": {},
   "outputs": [],
   "source": [
    "# Tensor'ları pad et\n",
    "MAX_LEN = 150  # max sequence length\n",
    "def pad_sequence_fn(seq, max_len=MAX_LEN):\n",
    "    seq = seq[:max_len]\n",
    "    return seq + [vocab[\"<PAD>\"]] * (max_len - len(seq))\n",
    "\n",
    "df['padded'] = df['encoded'].apply(pad_sequence_fn)\n",
    "\n",
    "# Giriş ve çıkış tensor'ları\n",
    "X = torch.tensor(df['padded'].tolist(), dtype=torch.long)\n",
    "y = torch.tensor(df['spam'].tolist(), dtype=torch.float32)\n"
   ]
  },
  {
   "cell_type": "code",
   "execution_count": null,
   "metadata": {},
   "outputs": [],
   "source": [
    "class SpamDataset(Dataset):\n",
    "    def __init__(self, X, y):\n",
    "        self.X = X\n",
    "        self.y = y\n",
    "\n",
    "    def __len__(self):\n",
    "        return len(self.X)\n",
    "\n",
    "    def __getitem__(self, idx):\n",
    "        return self.X[idx], self.y[idx]\n",
    "\n",
    "from sklearn.model_selection import train_test_split\n",
    "X_train, X_test, y_train, y_test = train_test_split(X, y, test_size=0.2, random_state=42)\n",
    "\n",
    "# Datasetler\n",
    "train_dataset = SpamDataset(X_train, y_train)\n",
    "test_dataset = SpamDataset(X_test, y_test)\n",
    "\n",
    "BATCH_SIZE = 4  # Batch size olarak 4 seçildi\n",
    "\n",
    "train_loader = DataLoader(train_dataset, batch_size=BATCH_SIZE, shuffle=True)\n",
    "test_loader = DataLoader(test_dataset, batch_size=BATCH_SIZE, shuffle=True)\n"
   ]
  },
  {
   "cell_type": "code",
   "execution_count": null,
   "metadata": {},
   "outputs": [],
   "source": [
    "class LSTMEmail(nn.Module):\n",
    "    def __init__(self, vocab_size, embed_dim, hidden_dim, num_layers):\n",
    "        super(LSTMEmail, self).__init__()\n",
    "        self.embedding = nn.Embedding(vocab_size, embed_dim, padding_idx=0)\n",
    "        self.lstm = nn.LSTM(embed_dim, hidden_dim, num_layers=num_layers, batch_first=True)\n",
    "        self.fc = nn.Linear(hidden_dim, 1)\n",
    "        self.sigmoid = nn.Sigmoid()\n",
    "\n",
    "    def forward(self, x):\n",
    "        embedded = self.embedding(x)\n",
    "        output, (hidden, cell) = self.lstm(embedded)\n",
    "        last_hidden = hidden[-1]\n",
    "        out = self.fc(last_hidden)\n",
    "        return self.sigmoid(out).squeeze()\n"
   ]
  },
  {
   "cell_type": "code",
   "execution_count": 14,
   "metadata": {},
   "outputs": [],
   "source": [
    "def train_model(model, train_loader, criterion, optimizer, device, num_epochs=10):\n",
    "    model.train()\n",
    "    for epoch in range(num_epochs):\n",
    "        total_loss = 0\n",
    "        correct = 0\n",
    "        total = 0\n",
    "\n",
    "        for inputs, labels in train_loader:\n",
    "            inputs, labels = inputs.to(device), labels.to(device)\n",
    "\n",
    "            optimizer.zero_grad()\n",
    "            outputs = model(inputs)\n",
    "            loss = criterion(outputs, labels)\n",
    "            loss.backward()\n",
    "            optimizer.step()\n",
    "\n",
    "            total_loss += loss.item()\n",
    "            preds = (outputs > 0.5).float()\n",
    "            correct += (preds == labels).sum().item()\n",
    "            total += labels.size(0)\n",
    "\n",
    "        acc = correct / total\n",
    "        print(f\"Epoch {epoch+1}/{num_epochs}, Loss: {total_loss:.4f}, Accuracy: {acc:.4f}\")\n"
   ]
  },
  {
   "cell_type": "code",
   "execution_count": 15,
   "metadata": {},
   "outputs": [
    {
     "name": "stdout",
     "output_type": "stream",
     "text": [
      "Epoch 1/20, Loss: 582.7823, Accuracy: 0.7763\n",
      "Epoch 2/20, Loss: 400.7287, Accuracy: 0.8649\n",
      "Epoch 3/20, Loss: 218.5254, Accuracy: 0.9105\n",
      "Epoch 4/20, Loss: 122.2603, Accuracy: 0.9618\n",
      "Epoch 5/20, Loss: 76.2570, Accuracy: 0.9799\n",
      "Epoch 6/20, Loss: 55.9092, Accuracy: 0.9838\n",
      "Epoch 7/20, Loss: 33.9545, Accuracy: 0.9932\n",
      "Epoch 8/20, Loss: 40.3525, Accuracy: 0.9904\n",
      "Epoch 9/20, Loss: 17.3472, Accuracy: 0.9969\n",
      "Epoch 10/20, Loss: 11.9256, Accuracy: 0.9980\n",
      "Epoch 11/20, Loss: 9.6391, Accuracy: 0.9985\n",
      "Epoch 12/20, Loss: 16.6782, Accuracy: 0.9972\n",
      "Epoch 13/20, Loss: 22.1111, Accuracy: 0.9963\n",
      "Epoch 14/20, Loss: 18.6637, Accuracy: 0.9969\n",
      "Epoch 15/20, Loss: 24.7456, Accuracy: 0.9939\n",
      "Epoch 16/20, Loss: 13.5399, Accuracy: 0.9969\n",
      "Epoch 17/20, Loss: 8.8980, Accuracy: 0.9987\n",
      "Epoch 18/20, Loss: 4.7021, Accuracy: 0.9993\n",
      "Epoch 19/20, Loss: 2.1113, Accuracy: 0.9998\n",
      "Epoch 20/20, Loss: 4.2083, Accuracy: 0.9991\n"
     ]
    }
   ],
   "source": [
    "# Cihaz seçimi (GPU varsa kullan)\n",
    "device = torch.device(\"cuda\" if torch.cuda.is_available() else \"cpu\")\n",
    "\n",
    "# Model parametreleri\n",
    "vocab_size = len(vocab)\n",
    "embed_dim = 64\n",
    "hidden_dim = 32\n",
    "num_layers = 2\n",
    "\n",
    "# Modeli oluştur ve cihaza taşı\n",
    "model = LSTMEmail(vocab_size, embed_dim, hidden_dim, num_layers).to(device)\n",
    "\n",
    "# Kayıp fonksiyonu ve optimizer\n",
    "criterion = nn.BCELoss()\n",
    "optimizer = torch.optim.Adam(model.parameters(), lr=1e-3)\n",
    "\n",
    "# Eğitimi başlat\n",
    "train_model(model, train_loader, criterion, optimizer, device, num_epochs=20)\n"
   ]
  },
  {
   "cell_type": "code",
   "execution_count": 22,
   "metadata": {},
   "outputs": [
    {
     "name": "stdout",
     "output_type": "stream",
     "text": [
      "Model başarıyla kaydedildi.\n"
     ]
    }
   ],
   "source": [
    "# Eğitilmiş modeli kaydet\n",
    "torch.save(model.state_dict(), 'lstm_spam_model_0.pt')\n",
    "print(\"Model başarıyla kaydedildi.\")\n"
   ]
  },
  {
   "cell_type": "code",
   "execution_count": 23,
   "metadata": {},
   "outputs": [
    {
     "data": {
      "text/plain": [
       "LSTMEmail(\n",
       "  (embedding): Embedding(33720, 64, padding_idx=0)\n",
       "  (lstm): LSTM(64, 32, num_layers=2, batch_first=True)\n",
       "  (fc): Linear(in_features=32, out_features=1, bias=True)\n",
       "  (sigmoid): Sigmoid()\n",
       ")"
      ]
     },
     "execution_count": 23,
     "metadata": {},
     "output_type": "execute_result"
    }
   ],
   "source": [
    "model = LSTMEmail(vocab_size, embed_dim, hidden_dim, num_layers)\n",
    "model.load_state_dict(torch.load('lstm_spam_model_0.pt'))\n",
    "model.to(device)   # GPU veya CPU’ya taşı\n",
    "model.eval()       # Değerlendirme moduna al\n"
   ]
  },
  {
   "cell_type": "code",
   "execution_count": 24,
   "metadata": {},
   "outputs": [],
   "source": [
    "y_true = []\n",
    "y_pred = []\n",
    "\n",
    "with torch.no_grad():\n",
    "    for inputs, labels in test_loader:\n",
    "        inputs, labels = inputs.to(device), labels.to(device)\n",
    "        outputs = model(inputs)\n",
    "        preds = (outputs > 0.5).float()\n",
    "        y_true.extend(labels.cpu().numpy())\n",
    "        y_pred.extend(preds.cpu().numpy())\n"
   ]
  },
  {
   "cell_type": "code",
   "execution_count": 25,
   "metadata": {},
   "outputs": [
    {
     "name": "stdout",
     "output_type": "stream",
     "text": [
      "Accuracy: 0.9773\n",
      "F1 Score: 0.9542\n"
     ]
    }
   ],
   "source": [
    "# Accuracy ve F1 score\n",
    "acc = accuracy_score(y_true, y_pred)\n",
    "f1 = f1_score(y_true, y_pred)\n",
    "\n",
    "print(f\"Accuracy: {acc:.4f}\")\n",
    "print(f\"F1 Score: {f1:.4f}\")\n"
   ]
  },
  {
   "cell_type": "code",
   "execution_count": 19,
   "metadata": {},
   "outputs": [
    {
     "data": {
      "image/png": "[encoded data removed]",
      "text/plain": [
       "<Figure size 600x400 with 2 Axes>"
      ]
     },
     "metadata": {},
     "output_type": "display_data"
    }
   ],
   "source": [
    "cm = confusion_matrix(y_true, y_pred)\n",
    "plt.figure(figsize=(6, 4))\n",
    "sns.heatmap(cm, annot=True, fmt='d', cmap='Blues')\n",
    "plt.xlabel(\"Predicted\")\n",
    "plt.ylabel(\"Actual\")\n",
    "plt.title(\"Confusion Matrix\")\n",
    "plt.show()\n"
   ]
  }
 ],
 "metadata": {
  "kernelspec": {
   "display_name": "Python 3",
   "language": "python",
   "name": "python3"
  },
  "language_info": {
   "codemirror_mode": {
    "name": "ipython",
    "version": 3
   },
   "file_extension": ".py",
   "mimetype": "text/x-python",
   "name": "python",
   "nbconvert_exporter": "python",
   "pygments_lexer": "ipython3",
   "version": "3.11.7"
  }
 },
 "nbformat": 4,
 "nbformat_minor": 2
}
