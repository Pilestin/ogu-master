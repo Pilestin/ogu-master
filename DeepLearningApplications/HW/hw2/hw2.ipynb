{
 "cells": [
  {
   "cell_type": "code",
   "execution_count": 27,
   "metadata": {},
   "outputs": [],
   "source": [
    "import numpy as np\n",
    "import cv2\n",
    "import os\n",
    "\n",
    "classes    = [\"cellphone\", \"flamingo\", \"Motorbikes\"]\n",
    "train_path = \"CaltechTinySplit/train/\"\n",
    "test_path  = \"CaltechTinySplit/test/\"\n"
   ]
  },
  {
   "cell_type": "markdown",
   "metadata": {},
   "source": [
    "Tanımlanan sınıflardaki folder path'ini bir metod ile ele alarak burada bulunan tüm resimleri opencv (cv2) kütüphanesi ile tek tek okuyarak np.array tipinde liste ile döndürmeliyiz\n"
   ]
  },
  {
   "cell_type": "code",
   "execution_count": 28,
   "metadata": {},
   "outputs": [],
   "source": [
    "def load_images(folder_path):\n",
    "    images = []\n",
    "    for filename in os.listdir(folder_path):\n",
    "        img = cv2.imread(os.path.join(folder_path, filename), cv2.IMREAD_GRAYSCALE)\n",
    "        img = cv2.resize(img, (64, 64)).flatten()  # 64x64 boyutuna küçültüp düzleştirme\n",
    "        images.append(img)\n",
    "    return np.array(images).T  # Boyut: 4096 x n"
   ]
  },
  {
   "cell_type": "markdown",
   "metadata": {},
   "source": [
    "Tanımlanan metodu kullanacak ve tüm class verilerini (ortalama matrisi ve kovaryans matrisi) hesaplayacak bir döngü yazılarak bu değerlerin bir listeye eklenmesi sağlanmalıdır."
   ]
  },
  {
   "cell_type": "code",
   "execution_count": 29,
   "metadata": {},
   "outputs": [
    {
     "name": "stdout",
     "output_type": "stream",
     "text": [
      "train_images_path CaltechTinySplit/train/cellphone\n",
      "train_images_path CaltechTinySplit/train/flamingo\n",
      "train_images_path CaltechTinySplit/train/Motorbikes\n"
     ]
    }
   ],
   "source": [
    "# Modelleri saklamak için liste\n",
    "models = []\n",
    "\n",
    "# Her sınıf için işlem\n",
    "for class_folder in classes:\n",
    "    train_images_path = train_path + class_folder\n",
    "    print(\"train_images_path\", train_images_path)\n",
    "    train_data = load_images(train_images_path)\n",
    "    # Her bir sınıf için hesaplanan metrikler models listesinde tutulur. [ortalama matrisi ve kovaryans matrisi]\n",
    "    mu_i = np.mean(train_data, axis=1, keepdims=True)  # 4096x1\n",
    "    sigma_i = np.cov(train_data)  # 4096x4096\n",
    "    sigma_inv_i = np.linalg.pinv(sigma_i)\n",
    "    models.append((mu_i, sigma_inv_i))"
   ]
  },
  {
   "cell_type": "code",
   "execution_count": 36,
   "metadata": {},
   "outputs": [
    {
     "data": {
      "text/plain": [
       "(4096, 1)"
      ]
     },
     "execution_count": 36,
     "metadata": {},
     "output_type": "execute_result"
    }
   ],
   "source": [
    "mu_i.shape"
   ]
  },
  {
   "cell_type": "code",
   "execution_count": 37,
   "metadata": {},
   "outputs": [
    {
     "data": {
      "text/plain": [
       "(4096, 4096)"
      ]
     },
     "execution_count": 37,
     "metadata": {},
     "output_type": "execute_result"
    }
   ],
   "source": [
    "sigma_i.shape"
   ]
  },
  {
   "cell_type": "code",
   "execution_count": 38,
   "metadata": {},
   "outputs": [],
   "source": [
    "def mahalanobis_distance(x, mu, sigma_inv):\n",
    "    diff = x - mu\n",
    "    return diff.T @ sigma_inv @ diff"
   ]
  },
  {
   "cell_type": "markdown",
   "metadata": {},
   "source": [
    "test verilerini de tıpkı train verilerinde yaptığımız gibi vektörel hale getirip, ayrıca label'ları ile bir listede tutulmalıdır."
   ]
  },
  {
   "cell_type": "code",
   "execution_count": null,
   "metadata": {},
   "outputs": [
    {
     "name": "stdout",
     "output_type": "stream",
     "text": [
      "test_images_path CaltechTinySplit/test/cellphone\n",
      "test_images_path CaltechTinySplit/test/flamingo\n",
      "test_images_path CaltechTinySplit/test/Motorbikes\n"
     ]
    }
   ],
   "source": [
    "test_data = []\n",
    "test_labels = []  # Gerçek sınıf etiketlerini saklamak için liste\n",
    "\n",
    "for class_idx, class_folder in enumerate(classes):\n",
    "    test_images_path = test_path + class_folder\n",
    "    print(\"test_images_path\", test_images_path)\n",
    "    class_test_data = load_images(test_images_path)\n",
    "    test_data.append(class_test_data)\n",
    "    test_labels += [class_idx] * class_test_data.shape[1]\n",
    "\n",
    "# ayrı listeler birleştirilmeli    \n",
    "test_data = np.hstack(test_data)\n",
    "test_labels = np.array(test_labels)\n"
   ]
  },
  {
   "cell_type": "code",
   "execution_count": 40,
   "metadata": {},
   "outputs": [
    {
     "data": {
      "text/plain": [
       "(4096, 96)"
      ]
     },
     "execution_count": 40,
     "metadata": {},
     "output_type": "execute_result"
    }
   ],
   "source": [
    "test_data.shape"
   ]
  },
  {
   "cell_type": "markdown",
   "metadata": {},
   "source": [
    "Verilerin predict edilmesi için ilk olarak test data'da bulunan her veri için train verilerinden hesapladığımız ortalama ve kovaryans matrislerine göre mahalanobis uzaklığı hesaplanmalıdır. Bu uzaklıkların en küçüğüne göre test verisinin hangi sınıfa ait olduğu belirlenmelidir."
   ]
  },
  {
   "cell_type": "code",
   "execution_count": 45,
   "metadata": {},
   "outputs": [
    {
     "name": "stdout",
     "output_type": "stream",
     "text": [
      "Test image 0 is classified as flamingo, real class is cellphone\n",
      "Test image 1 is classified as cellphone, real class is cellphone\n",
      "Test image 2 is classified as flamingo, real class is cellphone\n",
      "Test image 3 is classified as Motorbikes, real class is cellphone\n",
      "Test image 4 is classified as flamingo, real class is cellphone\n",
      "Test image 5 is classified as Motorbikes, real class is cellphone\n",
      "Test image 6 is classified as cellphone, real class is cellphone\n",
      "Test image 7 is classified as cellphone, real class is flamingo\n",
      "Test image 8 is classified as flamingo, real class is flamingo\n",
      "Test image 9 is classified as flamingo, real class is flamingo\n",
      "Test image 10 is classified as cellphone, real class is flamingo\n",
      "Test image 11 is classified as Motorbikes, real class is flamingo\n",
      "Test image 12 is classified as Motorbikes, real class is flamingo\n",
      "Test image 13 is classified as flamingo, real class is flamingo\n",
      "Test image 14 is classified as Motorbikes, real class is flamingo\n",
      "Test image 15 is classified as flamingo, real class is Motorbikes\n",
      "Test image 16 is classified as Motorbikes, real class is Motorbikes\n",
      "Test image 17 is classified as flamingo, real class is Motorbikes\n",
      "Test image 18 is classified as flamingo, real class is Motorbikes\n",
      "Test image 19 is classified as flamingo, real class is Motorbikes\n",
      "Test image 20 is classified as flamingo, real class is Motorbikes\n",
      "Test image 21 is classified as cellphone, real class is Motorbikes\n",
      "Test image 22 is classified as flamingo, real class is Motorbikes\n",
      "Test image 23 is classified as Motorbikes, real class is Motorbikes\n",
      "Test image 24 is classified as Motorbikes, real class is Motorbikes\n",
      "Test image 25 is classified as Motorbikes, real class is Motorbikes\n",
      "Test image 26 is classified as Motorbikes, real class is Motorbikes\n",
      "Test image 27 is classified as flamingo, real class is Motorbikes\n",
      "Test image 28 is classified as Motorbikes, real class is Motorbikes\n",
      "Test image 29 is classified as cellphone, real class is Motorbikes\n",
      "Test image 30 is classified as flamingo, real class is Motorbikes\n",
      "Test image 31 is classified as flamingo, real class is Motorbikes\n",
      "Test image 32 is classified as cellphone, real class is Motorbikes\n",
      "Test image 33 is classified as cellphone, real class is Motorbikes\n",
      "Test image 34 is classified as cellphone, real class is Motorbikes\n",
      "Test image 35 is classified as Motorbikes, real class is Motorbikes\n",
      "Test image 36 is classified as flamingo, real class is Motorbikes\n",
      "Test image 37 is classified as cellphone, real class is Motorbikes\n",
      "Test image 38 is classified as cellphone, real class is Motorbikes\n",
      "Test image 39 is classified as Motorbikes, real class is Motorbikes\n",
      "Test image 40 is classified as cellphone, real class is Motorbikes\n",
      "Test image 41 is classified as cellphone, real class is Motorbikes\n",
      "Test image 42 is classified as cellphone, real class is Motorbikes\n",
      "Test image 43 is classified as Motorbikes, real class is Motorbikes\n",
      "Test image 44 is classified as Motorbikes, real class is Motorbikes\n",
      "Test image 45 is classified as flamingo, real class is Motorbikes\n",
      "Test image 46 is classified as flamingo, real class is Motorbikes\n",
      "Test image 47 is classified as Motorbikes, real class is Motorbikes\n",
      "Test image 48 is classified as flamingo, real class is Motorbikes\n",
      "Test image 49 is classified as flamingo, real class is Motorbikes\n",
      "Test image 50 is classified as flamingo, real class is Motorbikes\n",
      "Test image 51 is classified as flamingo, real class is Motorbikes\n",
      "Test image 52 is classified as flamingo, real class is Motorbikes\n",
      "Test image 53 is classified as flamingo, real class is Motorbikes\n",
      "Test image 54 is classified as flamingo, real class is Motorbikes\n",
      "Test image 55 is classified as flamingo, real class is Motorbikes\n",
      "Test image 56 is classified as Motorbikes, real class is Motorbikes\n",
      "Test image 57 is classified as cellphone, real class is Motorbikes\n",
      "Test image 58 is classified as flamingo, real class is Motorbikes\n",
      "Test image 59 is classified as cellphone, real class is Motorbikes\n",
      "Test image 60 is classified as cellphone, real class is Motorbikes\n",
      "Test image 61 is classified as flamingo, real class is Motorbikes\n",
      "Test image 62 is classified as Motorbikes, real class is Motorbikes\n",
      "Test image 63 is classified as flamingo, real class is Motorbikes\n",
      "Test image 64 is classified as cellphone, real class is Motorbikes\n",
      "Test image 65 is classified as cellphone, real class is Motorbikes\n",
      "Test image 66 is classified as flamingo, real class is Motorbikes\n",
      "Test image 67 is classified as flamingo, real class is Motorbikes\n",
      "Test image 68 is classified as flamingo, real class is Motorbikes\n",
      "Test image 69 is classified as cellphone, real class is Motorbikes\n",
      "Test image 70 is classified as flamingo, real class is Motorbikes\n",
      "Test image 71 is classified as cellphone, real class is Motorbikes\n",
      "Test image 72 is classified as Motorbikes, real class is Motorbikes\n",
      "Test image 73 is classified as Motorbikes, real class is Motorbikes\n",
      "Test image 74 is classified as cellphone, real class is Motorbikes\n",
      "Test image 75 is classified as flamingo, real class is Motorbikes\n",
      "Test image 76 is classified as flamingo, real class is Motorbikes\n",
      "Test image 77 is classified as flamingo, real class is Motorbikes\n",
      "Test image 78 is classified as flamingo, real class is Motorbikes\n",
      "Test image 79 is classified as flamingo, real class is Motorbikes\n",
      "Test image 80 is classified as cellphone, real class is Motorbikes\n",
      "Test image 81 is classified as flamingo, real class is Motorbikes\n",
      "Test image 82 is classified as cellphone, real class is Motorbikes\n",
      "Test image 83 is classified as flamingo, real class is Motorbikes\n",
      "Test image 84 is classified as flamingo, real class is Motorbikes\n",
      "Test image 85 is classified as cellphone, real class is Motorbikes\n",
      "Test image 86 is classified as flamingo, real class is Motorbikes\n",
      "Test image 87 is classified as Motorbikes, real class is Motorbikes\n",
      "Test image 88 is classified as Motorbikes, real class is Motorbikes\n",
      "Test image 89 is classified as flamingo, real class is Motorbikes\n",
      "Test image 90 is classified as Motorbikes, real class is Motorbikes\n",
      "Test image 91 is classified as flamingo, real class is Motorbikes\n",
      "Test image 92 is classified as flamingo, real class is Motorbikes\n",
      "Test image 93 is classified as flamingo, real class is Motorbikes\n",
      "Test image 94 is classified as flamingo, real class is Motorbikes\n",
      "Test image 95 is classified as flamingo, real class is Motorbikes\n"
     ]
    }
   ],
   "source": [
    "predictions = []\n",
    "for i in range(test_data.shape[1]):  # Test verisindeki her örnek için\n",
    "    x_test = test_data[:, i:i+1]  # 4096x1 formatında vektör al\n",
    "    min_distance = float(\"inf\")\n",
    "    predicted_class = -1\n",
    "\n",
    "    for class_idx, (mu, sigma_inv) in enumerate(models):\n",
    "        distance = mahalanobis_distance(x_test, mu, sigma_inv)\n",
    "        if distance < min_distance:\n",
    "            min_distance = distance\n",
    "            predicted_class = class_idx\n",
    "    \n",
    "    predictions.append(predicted_class)  # Sonuçları listeye ekle\n",
    "    print(f\"Test image {i} is classified as {classes[predicted_class]}, real class is {classes[test_labels[i]]}\")"
   ]
  },
  {
   "cell_type": "code",
   "execution_count": 46,
   "metadata": {},
   "outputs": [],
   "source": [
    "predictions = np.array(predictions)  # Boyut: (m,)\n"
   ]
  },
  {
   "cell_type": "markdown",
   "metadata": {},
   "source": [
    "Mode Doğruluğunun hesaplanması"
   ]
  },
  {
   "cell_type": "code",
   "execution_count": 48,
   "metadata": {},
   "outputs": [
    {
     "name": "stdout",
     "output_type": "stream",
     "text": [
      "Model Doğruluk Oranı: 23.96%\n"
     ]
    }
   ],
   "source": [
    "# Model doğruluğunu hesapla\n",
    "from sklearn.metrics import accuracy_score\n",
    "\n",
    "accuracy = accuracy_score(test_labels, predictions)\n",
    "print(f\"Model Doğruluk Oranı: {accuracy * 100:.2f}%\")\n"
   ]
  },
  {
   "cell_type": "markdown",
   "metadata": {},
   "source": [
    "Modelin ne kadar doğru tahmin ettiğini ölçmek için sklearn.metrics içerisinden accuracy_score fonksiyonu kullanıldı. \n",
    "\n",
    "Model %23.96 oranında doğru tahmin yaptığı görüldü, bu oranın arttırılması için : \n",
    "- Daha fazla veri ile modelin eğitilmesi, \n",
    "- Verilerin shuffle edilmesi,\n",
    "- Daha fazla feature eklenmesi,\n",
    "- Daha farklı bir modelin kullanılması\n",
    "\n",
    "gibi yöntemler denenmelidir."
   ]
  },
  {
   "cell_type": "markdown",
   "metadata": {},
   "source": [
    "### Shuffle Kullanılarak Modelin eğitilmesi\n",
    "\n",
    "Veriler shuffle edilerek baştan eğitilirse modelin daha iyi sonuçlar vermesi beklenir."
   ]
  },
  {
   "cell_type": "code",
   "execution_count": null,
   "metadata": {},
   "outputs": [],
   "source": [
    "from sklearn.utils import shuffle"
   ]
  },
  {
   "cell_type": "code",
   "execution_count": 50,
   "metadata": {},
   "outputs": [
    {
     "name": "stdout",
     "output_type": "stream",
     "text": [
      "Eğitim verisi klasörü: CaltechTinySplit/train/cellphone\n",
      "Eğitim verisi klasörü: CaltechTinySplit/train/flamingo\n",
      "Eğitim verisi klasörü: CaltechTinySplit/train/Motorbikes\n"
     ]
    }
   ],
   "source": [
    "\n",
    "# Modelleri saklamak için liste\n",
    "models = []\n",
    "\n",
    "# Her sınıf için eğitim verisini yükle\n",
    "for class_idx, class_folder in enumerate(classes):\n",
    "    train_images_path = train_path + class_folder\n",
    "    print(\"Eğitim verisi klasörü:\", train_images_path)\n",
    "\n",
    "    train_data = load_images(train_images_path)\n",
    "\n",
    "    if train_data.size == 0:\n",
    "        print(f\"Uyarı: {class_folder} için veri bulunamadı, atlanıyor.\")\n",
    "        continue  # Boş sınıf varsa işlemi atla\n",
    "\n",
    "    # **Verileri Shuffle Et**\n",
    "    train_data = shuffle(train_data.T, random_state=42).T  # Shuffle ve Transpose\n",
    "\n",
    "    # Ortalama ve kovaryans hesaplama\n",
    "    mu_i = np.mean(train_data, axis=1, keepdims=True)  # 4096x1\n",
    "    sigma_i = np.cov(train_data, rowvar=True)  # 4096x4096\n",
    "\n",
    "    # Kovaryans matrisinin tersini önceden hesapla\n",
    "    sigma_inv_i = np.linalg.pinv(sigma_i)\n",
    "\n",
    "    models.append((mu_i, sigma_inv_i))  # Sigma'nın tersini sakla\n"
   ]
  },
  {
   "cell_type": "markdown",
   "metadata": {},
   "source": [
    "Train verilerinin de aynı şekilde yanlı olmaması için shuffle edilerek değerlendirilmesi gerekir. "
   ]
  },
  {
   "cell_type": "code",
   "execution_count": 53,
   "metadata": {},
   "outputs": [
    {
     "name": "stdout",
     "output_type": "stream",
     "text": [
      "Test verisi klasörü: CaltechTinySplit/test/cellphone\n",
      "Test verisi klasörü: CaltechTinySplit/test/flamingo\n",
      "Test verisi klasörü: CaltechTinySplit/test/Motorbikes\n",
      "Test image 0 is classified as cellphone, real class is Motorbikes\n",
      "Test image 1 is classified as Motorbikes, real class is Motorbikes\n",
      "Test image 2 is classified as Motorbikes, real class is Motorbikes\n",
      "Test image 3 is classified as Motorbikes, real class is Motorbikes\n",
      "Test image 4 is classified as cellphone, real class is Motorbikes\n",
      "Test image 5 is classified as Motorbikes, real class is Motorbikes\n",
      "Test image 6 is classified as cellphone, real class is Motorbikes\n",
      "Test image 7 is classified as Motorbikes, real class is Motorbikes\n",
      "Test image 8 is classified as cellphone, real class is cellphone\n",
      "Test image 9 is classified as cellphone, real class is flamingo\n",
      "Test image 10 is classified as flamingo, real class is Motorbikes\n",
      "Test image 11 is classified as cellphone, real class is Motorbikes\n",
      "Test image 12 is classified as Motorbikes, real class is Motorbikes\n",
      "Test image 13 is classified as cellphone, real class is cellphone\n",
      "Test image 14 is classified as Motorbikes, real class is Motorbikes\n",
      "Test image 15 is classified as Motorbikes, real class is Motorbikes\n",
      "Test image 16 is classified as Motorbikes, real class is flamingo\n",
      "Test image 17 is classified as cellphone, real class is Motorbikes\n",
      "Test image 18 is classified as cellphone, real class is Motorbikes\n",
      "Test image 19 is classified as Motorbikes, real class is Motorbikes\n",
      "Test image 20 is classified as cellphone, real class is Motorbikes\n",
      "Test image 21 is classified as flamingo, real class is Motorbikes\n",
      "Test image 22 is classified as cellphone, real class is Motorbikes\n",
      "Test image 23 is classified as Motorbikes, real class is Motorbikes\n",
      "Test image 24 is classified as Motorbikes, real class is Motorbikes\n",
      "Test image 25 is classified as Motorbikes, real class is flamingo\n",
      "Test image 26 is classified as Motorbikes, real class is Motorbikes\n",
      "Test image 27 is classified as Motorbikes, real class is flamingo\n",
      "Test image 28 is classified as cellphone, real class is Motorbikes\n",
      "Test image 29 is classified as Motorbikes, real class is Motorbikes\n",
      "Test image 30 is classified as Motorbikes, real class is Motorbikes\n",
      "Test image 31 is classified as Motorbikes, real class is Motorbikes\n",
      "Test image 32 is classified as Motorbikes, real class is Motorbikes\n",
      "Test image 33 is classified as cellphone, real class is cellphone\n",
      "Test image 34 is classified as cellphone, real class is Motorbikes\n",
      "Test image 35 is classified as Motorbikes, real class is Motorbikes\n",
      "Test image 36 is classified as Motorbikes, real class is Motorbikes\n",
      "Test image 37 is classified as cellphone, real class is Motorbikes\n",
      "Test image 38 is classified as Motorbikes, real class is Motorbikes\n",
      "Test image 39 is classified as cellphone, real class is Motorbikes\n",
      "Test image 40 is classified as Motorbikes, real class is flamingo\n",
      "Test image 41 is classified as Motorbikes, real class is Motorbikes\n",
      "Test image 42 is classified as cellphone, real class is Motorbikes\n",
      "Test image 43 is classified as cellphone, real class is Motorbikes\n",
      "Test image 44 is classified as flamingo, real class is Motorbikes\n",
      "Test image 45 is classified as Motorbikes, real class is Motorbikes\n",
      "Test image 46 is classified as Motorbikes, real class is Motorbikes\n",
      "Test image 47 is classified as Motorbikes, real class is flamingo\n",
      "Test image 48 is classified as Motorbikes, real class is Motorbikes\n",
      "Test image 49 is classified as Motorbikes, real class is cellphone\n",
      "Test image 50 is classified as Motorbikes, real class is Motorbikes\n",
      "Test image 51 is classified as flamingo, real class is Motorbikes\n",
      "Test image 52 is classified as Motorbikes, real class is flamingo\n",
      "Test image 53 is classified as Motorbikes, real class is Motorbikes\n",
      "Test image 54 is classified as cellphone, real class is cellphone\n",
      "Test image 55 is classified as Motorbikes, real class is Motorbikes\n",
      "Test image 56 is classified as cellphone, real class is Motorbikes\n",
      "Test image 57 is classified as cellphone, real class is Motorbikes\n",
      "Test image 58 is classified as Motorbikes, real class is Motorbikes\n",
      "Test image 59 is classified as Motorbikes, real class is Motorbikes\n",
      "Test image 60 is classified as Motorbikes, real class is Motorbikes\n",
      "Test image 61 is classified as Motorbikes, real class is Motorbikes\n",
      "Test image 62 is classified as cellphone, real class is Motorbikes\n",
      "Test image 63 is classified as cellphone, real class is Motorbikes\n",
      "Test image 64 is classified as Motorbikes, real class is Motorbikes\n",
      "Test image 65 is classified as Motorbikes, real class is Motorbikes\n",
      "Test image 66 is classified as Motorbikes, real class is Motorbikes\n",
      "Test image 67 is classified as Motorbikes, real class is Motorbikes\n",
      "Test image 68 is classified as Motorbikes, real class is Motorbikes\n",
      "Test image 69 is classified as Motorbikes, real class is Motorbikes\n",
      "Test image 70 is classified as cellphone, real class is Motorbikes\n",
      "Test image 71 is classified as Motorbikes, real class is Motorbikes\n",
      "Test image 72 is classified as Motorbikes, real class is Motorbikes\n",
      "Test image 73 is classified as cellphone, real class is Motorbikes\n",
      "Test image 74 is classified as cellphone, real class is Motorbikes\n",
      "Test image 75 is classified as Motorbikes, real class is Motorbikes\n",
      "Test image 76 is classified as cellphone, real class is Motorbikes\n",
      "Test image 77 is classified as Motorbikes, real class is Motorbikes\n",
      "Test image 78 is classified as Motorbikes, real class is Motorbikes\n",
      "Test image 79 is classified as cellphone, real class is Motorbikes\n",
      "Test image 80 is classified as Motorbikes, real class is Motorbikes\n",
      "Test image 81 is classified as cellphone, real class is cellphone\n",
      "Test image 82 is classified as flamingo, real class is Motorbikes\n",
      "Test image 83 is classified as cellphone, real class is Motorbikes\n",
      "Test image 84 is classified as cellphone, real class is cellphone\n",
      "Test image 85 is classified as cellphone, real class is Motorbikes\n",
      "Test image 86 is classified as Motorbikes, real class is Motorbikes\n",
      "Test image 87 is classified as Motorbikes, real class is Motorbikes\n",
      "Test image 88 is classified as Motorbikes, real class is Motorbikes\n",
      "Test image 89 is classified as cellphone, real class is Motorbikes\n",
      "Test image 90 is classified as Motorbikes, real class is Motorbikes\n",
      "Test image 91 is classified as cellphone, real class is Motorbikes\n",
      "Test image 92 is classified as flamingo, real class is Motorbikes\n",
      "Test image 93 is classified as flamingo, real class is flamingo\n",
      "Test image 94 is classified as Motorbikes, real class is Motorbikes\n",
      "Test image 95 is classified as Motorbikes, real class is Motorbikes\n"
     ]
    }
   ],
   "source": [
    "predictions = []\n",
    "test_data = []\n",
    "test_labels = []  # Gerçek sınıf etiketlerini saklamak için liste\n",
    "\n",
    "# Test verisini yükleme\n",
    "for class_idx, class_folder in enumerate(classes):\n",
    "    test_images_path = test_path + class_folder\n",
    "    print(\"Test verisi klasörü:\", test_images_path)\n",
    "    \n",
    "    class_test_data = load_images(test_images_path)  # Her sınıfın test verisini yükle\n",
    "\n",
    "    if class_test_data.size == 0:\n",
    "        print(f\"Uyarı: {class_folder} için test verisi yok, atlanıyor.\")\n",
    "        continue  # Eğer test verisi boşsa atla\n",
    "\n",
    "    test_data.append(class_test_data)  # Test verilerini ekle\n",
    "    test_labels.extend([class_idx] * class_test_data.shape[1])  # Gerçek etiketleri ekle\n",
    "\n",
    "# Test verilerini tek bir NumPy dizisine çevir\n",
    "test_data = np.hstack(test_data)  # Boyut: (4096, m)\n",
    "test_labels = np.array(test_labels)  # Boyut: (m,)\n",
    "\n",
    "# **Verileri Shuffle Et**\n",
    "test_data, test_labels = shuffle(test_data.T, test_labels, random_state=42)  # Shuffle ve Transpose\n",
    "test_data = test_data.T  # Tekrar (4096, m) formata çevir\n",
    "\n",
    "# Test verisini tahmin etme\n",
    "for i in range(test_data.shape[1]):  # Test verisindeki her örnek için\n",
    "    x_test = test_data[:, i:i+1]  # 4096x1 formatında vektör al\n",
    "    min_distance = float(\"inf\")\n",
    "    predicted_class = -1\n",
    "\n",
    "    for class_idx, (mu, sigma_inv) in enumerate(models):\n",
    "        distance = mahalanobis_distance(x_test, mu, sigma_inv)\n",
    "        if distance < min_distance:\n",
    "            min_distance = distance\n",
    "            predicted_class = class_idx\n",
    "    \n",
    "    predictions.append(predicted_class)  # Sonuçları listeye ekle\n",
    "    print(f\"Test image {i} is classified as {classes[predicted_class]}, real class is {classes[test_labels[i]]}\")\n",
    "\n",
    "# NumPy formatına çevir\n",
    "predictions = np.array(predictions)  # Boyut: (m,)\n",
    "\n",
    "\n"
   ]
  },
  {
   "cell_type": "code",
   "execution_count": 54,
   "metadata": {},
   "outputs": [
    {
     "name": "stdout",
     "output_type": "stream",
     "text": [
      "Model Doğruluk Oranı: 57.29%\n"
     ]
    }
   ],
   "source": [
    "# Model doğruluğunu hesapla\n",
    "accuracy = accuracy_score(test_labels, predictions)\n",
    "print(f\"Model Doğruluk Oranı: {accuracy * 100:.2f}%\")"
   ]
  },
  {
   "cell_type": "markdown",
   "metadata": {},
   "source": [
    "Görüldüğü gibi shuffle edilerek verilerden daha iyi öğrenilebildiği görülmüştür, resim örnek sayısının artırılması da modelin daha iyi öğrenmesine yardımcı olacaktır. \n",
    "\n",
    "Özet olarak train verilerinden hazırlanan ortalama ve kovaryans matrisleri ile test verileri karşılaştırılarak en yakın olan sınıfın tahmin edilmesi sağlanmıştır. Bu yakınlık değeri mahalanobis uzaklığı ile hesaplanmıştır. "
   ]
  }
 ],
 "metadata": {
  "kernelspec": {
   "display_name": "Python 3",
   "language": "python",
   "name": "python3"
  },
  "language_info": {
   "codemirror_mode": {
    "name": "ipython",
    "version": 3
   },
   "file_extension": ".py",
   "mimetype": "text/x-python",
   "name": "python",
   "nbconvert_exporter": "python",
   "pygments_lexer": "ipython3",
   "version": "3.11.7"
  }
 },
 "nbformat": 4,
 "nbformat_minor": 2
}
