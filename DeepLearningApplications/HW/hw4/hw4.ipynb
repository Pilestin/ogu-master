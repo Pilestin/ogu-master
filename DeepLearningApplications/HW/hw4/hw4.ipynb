{
  "cells": [
    {
      "cell_type": "markdown",
      "metadata": {
        "id": "dz4RLZtcxudw"
      },
      "source": [
        "# HW - 4 - CNN\n",
        "\n",
        "Görev : PDF içerisinde verilen CNN mimarisinin oluşturulması ve\n",
        "bu modeli eğitim/validasyon/test veri kümeleri üzerinde eğitmek/değerlendirmek. Modelin aktivasyon fonksiyonu olarak **Mish** kullanılacaktır. Eğitim sonucunda model kaydedilecek ve performansı metriklerle değerlendirilecektir.\n",
        "\n",
        "Parametreler ve Diğer:\n",
        "\n",
        "  model.compile içinm bunları kullanacağız\n",
        "\n",
        "* Optimizer: Adam, Learning rate = 1e-3, batch-size=16, epoch=50\n",
        "\n",
        "* scheduler = torch.optim.lr_scheduler.MultiStepLR(optimizer, milestones=\n",
        "[20, 40], gamma=0.3)\n",
        "\n",
        "1. Train edilerek model save edilecek\n",
        "2. Save edilen model yüklenerek test verisetinde kullanılacak\n",
        "3. Confisuon matrix, accuracy, f-score ve auc score'laroı gösterilecek.\n"
      ]
    },
    {
      "cell_type": "code",
      "execution_count": 2,
      "metadata": {
        "id": "Pg8zKG6OajVw"
      },
      "outputs": [],
      "source": [
        "import torch\n",
        "import torch.nn as nn\n",
        "import torch.nn.functional as F\n",
        "from torchvision import datasets, transforms\n",
        "from torch.utils.data import DataLoader\n",
        "from torch.optim import Adam\n",
        "from sklearn.metrics import confusion_matrix, accuracy_score, f1_score, roc_auc_score\n",
        "import seaborn as sns\n",
        "import matplotlib.pyplot as plt\n",
        "import numpy as np\n",
        "import os\n"
      ]
    },
    {
      "cell_type": "markdown",
      "metadata": {
        "id": "cW_eoIMByKv6"
      },
      "source": [
        "Mish aktivasyon fonksiyonu. Aşağıdaki kaynaktan yararlanılmıştır.  \n",
        "\n",
        "* https://paperswithcode.com/method/mish"
      ]
    },
    {
      "cell_type": "code",
      "execution_count": 3,
      "metadata": {
        "id": "bPwO5L50dCkC"
      },
      "outputs": [],
      "source": [
        "class Mish(nn.Module):\n",
        "    def forward(self, x):\n",
        "        return x * torch.tanh(F.softplus(x))\n"
      ]
    },
    {
      "cell_type": "markdown",
      "metadata": {
        "id": "ePTk60b7zsbf"
      },
      "source": [
        "### CNN Mimarisinin oluşturulması\n",
        "\n",
        "PDF içerisinde istenen CNN mimarisinin detayına bakıldığında :\n",
        "\n",
        "- Girişte 3RGB 224x224 görüntüler input olarak alınır.\n",
        "- İlk iki evrede, sırasyıla konvolüsyon ve activation katmanları bulunur. İkinci konvolüsyon katmanından sonra  pooling (MaxPool) ve dropout (0.3 oranında) uygulanır.\n",
        "- Üçüncü ve dördüncü konvolüsyon katmanları sırasıyla aynı şekilde tekrar eder. Dördüncü katmandan sonra tekrar MaxPool ve dropout (0.4 oranında) kullanılmıştır.\n",
        "- Konvolüsyon katmanlarından sonra elde edilen çıktı yapay sinir ağı olan (fully connected) iki katmana aktarılır. Bu katmanlara gelmeden düzenleştirme (flatten) uygulanması gerekebilir.\n",
        "- Son aşamada ise softmax aktivasyon fonksiyonundan geçirilerek sonuç elde edilir.\n",
        "\n"
      ]
    },
    {
      "cell_type": "code",
      "execution_count": 4,
      "metadata": {
        "id": "ADJHagOcdFLP"
      },
      "outputs": [],
      "source": [
        "class CNNModel(nn.Module):\n",
        "    def __init__(self, num_classes):\n",
        "        super(CNNModel, self).__init__()\n",
        "        self.conv1 = nn.Conv2d(3, 32, 3, padding=1)     # ilk katman\n",
        "        self.conv2 = nn.Conv2d(32, 64, 3, padding=1)    # ikinci katmsn\n",
        "        self.dropout1 = nn.Dropout(0.3)                 # dropout katmanı (%30)\n",
        "        self.pool = nn.MaxPool2d(2, 2)                  # Pooling katmanı (2x2)\n",
        "\n",
        "        self.conv3 = nn.Conv2d(64, 128, 3, padding=1)   # üçüncü katman\n",
        "        self.conv4 = nn.Conv2d(128, 256, 3, padding=1)  # dördüncü katman\n",
        "        self.dropout2 = nn.Dropout(0.4)                 # dropout katmanı  (%40)\n",
        "\n",
        "        self.fc1 = nn.Linear(256 * 56 * 56, 256)    # tam boyutlu bağlantı katmanı\n",
        "        self.fc2 = nn.Linear(256, num_classes)      # sonuç sınıf sayısı\n",
        "        self.act = Mish()                           # aktivasyon fonksiyonu\n",
        "\n",
        "    def forward(self, x):\n",
        "        x = self.act(self.conv1(x))                 # ilk conv katmanı ve çıktısının aktivasyona verilmesi\n",
        "        x = self.pool(self.act(self.conv2(x)))      # ikinci conv katmanı, çıktının aktivasyon ve poolinge verilmesi\n",
        "        x = self.dropout1(x)                        # dropout katmanı (%30)\n",
        "        x = self.act(self.conv3(x))                 # üçüncü conv katmanı ve çıktısının aktivasyona verilmesi\n",
        "        x = self.pool(self.act(self.conv4(x)))      # dördüncü conv katmanı, çıktının aktivasyon ve poolinge verilmesi\n",
        "        x = self.dropout2(x)                        # dropout katmanı (%40)\n",
        "        x = x.view(x.size(0), -1)                   # Flattening işlemi {-1 boyutunu otomatik ayarlar}\n",
        "        x = self.fc1(x)                             # full connected katmanı\n",
        "        x = self.fc2(x)                             # son full connected katmanı\n",
        "        return x\n"
      ]
    },
    {
      "cell_type": "markdown",
      "metadata": {
        "id": "AqxC2PRm2bQc"
      },
      "source": [
        "Drive içerisinden veri okuma için"
      ]
    },
    {
      "cell_type": "code",
      "execution_count": 5,
      "metadata": {
        "id": "ZGdBLEuTqGdD"
      },
      "outputs": [],
      "source": [
        "# data_dir = \"CaltechTinySplit\""
      ]
    },
    {
      "cell_type": "code",
      "execution_count": null,
      "metadata": {
        "colab": {
          "base_uri": "https://localhost:8080/"
        },
        "id": "LaGRlYD9dx8j",
        "outputId": "f5d53c5b-c62b-445c-a842-9439e2783623"
      },
      "outputs": [
        {
          "name": "stdout",
          "output_type": "stream",
          "text": [
            "Drive already mounted at /content/drive; to attempt to forcibly remount, call drive.mount(\"/content/drive\", force_remount=True).\n"
          ]
        }
      ],
      "source": [
        "# from google.colab import drive\n",
        "# drive.mount('/content/drive')\n",
        "\n",
        "# # Example: Accessing a file in your Google Drive's \"Colab Notebooks\" folder\n",
        "# data_dir = \"/content/drive/MyDrive/Makale-Döküman-Makale Çalışmaları/YL Dersler/Derin Öğrenme Uygulamaları/HW/HW4-CNN/CaltechTinySplit\" # Replace with your file path\n"
      ]
    },
    {
      "cell_type": "markdown",
      "metadata": {
        "id": "E24LZGLx2gVw"
      },
      "source": [
        "Okunan resimin 224 x 224 boyutunda olması için resize yapılır.\n",
        "\n",
        "İlk olarak tüm görüntüler `224x224` boyutuna yeniden boyutlandırılır ve tensöre çevrilir. Bu işlem `transforms.Compose` aracılığıyla tanımlanmıştır.\n",
        "\n",
        "`datasets.ImageFolder` kullanılarak `train`, `val` ve `test` klasörlerindeki görüntüler sınıf etiketleriyle birlikte yüklenir. Bu yapı, her alt klasörü bir sınıf olarak tanır ve ona göre etiketler oluşturur.\n",
        "\n",
        "Veriler `DataLoader` aracılığıyla mini-batch’ler hâlinde belleğe alınmak üzere hazırlanır. Eğitim veri kümesi karıştırılır (`shuffle=True`), doğrulama ve test veri kümeleri ise sıralı olarak yüklenir.\n"
      ]
    },
    {
      "cell_type": "code",
      "execution_count": null,
      "metadata": {
        "id": "RXPSGzTWdGkr"
      },
      "outputs": [],
      "source": [
        "transform = transforms.Compose([\n",
        "    transforms.Resize((224, 224)),\n",
        "    transforms.ToTensor()\n",
        "])\n",
        "\n",
        "train_ds = datasets.ImageFolder(os.path.join(data_dir, 'train'), transform=transform)\n",
        "val_ds = datasets.ImageFolder(os.path.join(data_dir, 'val'), transform=transform)\n",
        "test_ds = datasets.ImageFolder(os.path.join(data_dir, 'test'), transform=transform)\n",
        "\n",
        "train_loader = DataLoader(train_ds, batch_size=16, shuffle=True)\n",
        "val_loader = DataLoader(val_ds, batch_size=16)\n",
        "test_loader = DataLoader(test_ds, batch_size=16)\n"
      ]
    },
    {
      "cell_type": "markdown",
      "metadata": {
        "id": "EJJnzO5c2p_1"
      },
      "source": [
        "Train için fonksiyon oluşturulur."
      ]
    },
    {
      "cell_type": "code",
      "execution_count": 7,
      "metadata": {
        "id": "3nxKFyBmdIJL"
      },
      "outputs": [],
      "source": [
        "def train_model(model, criterion, optimizer, scheduler, num_epochs=50):\n",
        "    model.train()\n",
        "    for ep in range(num_epochs):\n",
        "        total, correct, loss_sum = 0, 0, 0\n",
        "        for x, y in train_loader:\n",
        "            x, y = x.to(device), y.to(device)\n",
        "            optimizer.zero_grad()\n",
        "            out = model(x)\n",
        "            loss = criterion(out, y)\n",
        "            loss.backward()\n",
        "            optimizer.step()\n",
        "            _, pred = torch.max(out, 1)\n",
        "            total += y.size(0)\n",
        "            correct += (pred == y).sum().item()\n",
        "            loss_sum += loss.item()\n",
        "        scheduler.step()\n",
        "        print(f\"Epoch {ep+1}/{num_epochs} - Loss: {loss_sum:.4f} - Acc: {100*correct/total:.2f}%\")\n"
      ]
    },
    {
      "cell_type": "code",
      "execution_count": 8,
      "metadata": {
        "id": "zmWWdnt5dJhm"
      },
      "outputs": [],
      "source": [
        "def evaluate(model, loader):\n",
        "    model.eval()\n",
        "    y_true, y_pred, y_prob = [], [], []\n",
        "    with torch.no_grad():\n",
        "        for x, y in loader:\n",
        "            x, y = x.to(device), y.to(device)\n",
        "            out = model(x)\n",
        "            prob = F.softmax(out, dim=1)\n",
        "            _, pred = torch.max(prob, 1)\n",
        "            y_true.extend(y.cpu().numpy())\n",
        "            y_pred.extend(pred.cpu().numpy())\n",
        "            y_prob.extend(prob.cpu().numpy())\n",
        "    return y_true, y_pred, np.array(y_prob)\n"
      ]
    },
    {
      "cell_type": "code",
      "execution_count": 9,
      "metadata": {
        "colab": {
          "base_uri": "https://localhost:8080/"
        },
        "id": "qvPo3p8CdKu1",
        "outputId": "da1c9fde-0404-436e-a07b-cd825bc90609"
      },
      "outputs": [
        {
          "name": "stdout",
          "output_type": "stream",
          "text": [
            "Epoch 1/50 - Loss: 403.5346 - Acc: 65.01%\n",
            "Epoch 2/50 - Loss: 53.3376 - Acc: 83.80%\n",
            "Epoch 3/50 - Loss: 26.2889 - Acc: 89.67%\n",
            "Epoch 4/50 - Loss: 18.3249 - Acc: 92.79%\n",
            "Epoch 5/50 - Loss: 6.4313 - Acc: 98.22%\n",
            "Epoch 6/50 - Loss: 3.2802 - Acc: 98.96%\n",
            "Epoch 7/50 - Loss: 1.2963 - Acc: 99.70%\n",
            "Epoch 8/50 - Loss: 6.0624 - Acc: 98.14%\n",
            "Epoch 9/50 - Loss: 27.8444 - Acc: 92.20%\n",
            "Epoch 10/50 - Loss: 7.4570 - Acc: 97.62%\n",
            "Epoch 11/50 - Loss: 1.2554 - Acc: 99.70%\n",
            "Epoch 12/50 - Loss: 0.1298 - Acc: 100.00%\n",
            "Epoch 13/50 - Loss: 0.0527 - Acc: 100.00%\n",
            "Epoch 14/50 - Loss: 0.0219 - Acc: 100.00%\n",
            "Epoch 15/50 - Loss: 0.0201 - Acc: 100.00%\n",
            "Epoch 16/50 - Loss: 0.0153 - Acc: 100.00%\n",
            "Epoch 17/50 - Loss: 0.0129 - Acc: 100.00%\n",
            "Epoch 18/50 - Loss: 0.0108 - Acc: 100.00%\n",
            "Epoch 19/50 - Loss: 0.0095 - Acc: 100.00%\n",
            "Epoch 20/50 - Loss: 0.0085 - Acc: 100.00%\n",
            "Epoch 21/50 - Loss: 0.0083 - Acc: 100.00%\n",
            "Epoch 22/50 - Loss: 0.0076 - Acc: 100.00%\n",
            "Epoch 23/50 - Loss: 0.0073 - Acc: 100.00%\n",
            "Epoch 24/50 - Loss: 0.0069 - Acc: 100.00%\n",
            "Epoch 25/50 - Loss: 0.0068 - Acc: 100.00%\n",
            "Epoch 26/50 - Loss: 0.0067 - Acc: 100.00%\n",
            "Epoch 27/50 - Loss: 0.0065 - Acc: 100.00%\n",
            "Epoch 28/50 - Loss: 0.0062 - Acc: 100.00%\n",
            "Epoch 29/50 - Loss: 0.0060 - Acc: 100.00%\n",
            "Epoch 30/50 - Loss: 0.0057 - Acc: 100.00%\n",
            "Epoch 31/50 - Loss: 0.0056 - Acc: 100.00%\n",
            "Epoch 32/50 - Loss: 0.0055 - Acc: 100.00%\n",
            "Epoch 33/50 - Loss: 0.0054 - Acc: 100.00%\n",
            "Epoch 34/50 - Loss: 0.0050 - Acc: 100.00%\n",
            "Epoch 35/50 - Loss: 0.0049 - Acc: 100.00%\n",
            "Epoch 36/50 - Loss: 0.0047 - Acc: 100.00%\n",
            "Epoch 37/50 - Loss: 0.0045 - Acc: 100.00%\n",
            "Epoch 38/50 - Loss: 0.0044 - Acc: 100.00%\n",
            "Epoch 39/50 - Loss: 0.0040 - Acc: 100.00%\n",
            "Epoch 40/50 - Loss: 0.0038 - Acc: 100.00%\n",
            "Epoch 41/50 - Loss: 0.0040 - Acc: 100.00%\n",
            "Epoch 42/50 - Loss: 0.0038 - Acc: 100.00%\n",
            "Epoch 43/50 - Loss: 0.0040 - Acc: 100.00%\n",
            "Epoch 44/50 - Loss: 0.0036 - Acc: 100.00%\n",
            "Epoch 45/50 - Loss: 0.0037 - Acc: 100.00%\n",
            "Epoch 46/50 - Loss: 0.0038 - Acc: 100.00%\n",
            "Epoch 47/50 - Loss: 0.0035 - Acc: 100.00%\n",
            "Epoch 48/50 - Loss: 0.0035 - Acc: 100.00%\n",
            "Epoch 49/50 - Loss: 0.0033 - Acc: 100.00%\n",
            "Epoch 50/50 - Loss: 0.0032 - Acc: 100.00%\n"
          ]
        }
      ],
      "source": [
        "device = torch.device('cuda' if torch.cuda.is_available() else 'cpu')\n",
        "model = CNNModel(len(train_ds.classes)).to(device)\n",
        "criterion = nn.CrossEntropyLoss()\n",
        "optimizer = Adam(model.parameters(), lr=1e-3)\n",
        "scheduler = torch.optim.lr_scheduler.MultiStepLR(optimizer, milestones=[20, 40], gamma=0.3)\n",
        "\n",
        "train_model(model, criterion, optimizer, scheduler)\n",
        "torch.save(model.state_dict(), 'cnn_mish_model.pt')\n"
      ]
    },
    {
      "cell_type": "code",
      "execution_count": 10,
      "metadata": {
        "colab": {
          "base_uri": "https://localhost:8080/",
          "height": 636
        },
        "id": "oBlIKOwkdMNG",
        "outputId": "06313f22-3dea-41d7-fbbb-734c9c5cdc9b"
      },
      "outputs": [
        {
          "name": "stdout",
          "output_type": "stream",
          "text": [
            "Accuracy: 0.8793, F1: 0.8713, AUC: 0.980772327731886\n"
          ]
        },
        {
          "data": {
            "image/png": "[encoded data removed]",
            "text/plain": [
              "<Figure size 1000x800 with 2 Axes>"
            ]
          },
          "metadata": {},
          "output_type": "display_data"
        }
      ],
      "source": [
        "model.load_state_dict(torch.load('cnn_mish_model.pt'))\n",
        "y_true, y_pred, y_prob = evaluate(model, test_loader)\n",
        "\n",
        "acc = accuracy_score(y_true, y_pred)\n",
        "f1 = f1_score(y_true, y_pred, average='weighted')\n",
        "try:\n",
        "    auc = roc_auc_score(y_true, y_prob, multi_class='ovr')\n",
        "except:\n",
        "    auc = 'AUC hesaplanamadı'\n",
        "\n",
        "print(f\"Accuracy: {acc:.4f}, F1: {f1:.4f}, AUC: {auc}\")\n",
        "\n",
        "cm = confusion_matrix(y_true, y_pred)\n",
        "plt.figure(figsize=(10, 8))\n",
        "sns.heatmap(cm, annot=True, fmt='d', cmap='Blues',\n",
        "            xticklabels=train_ds.classes, yticklabels=train_ds.classes)\n",
        "plt.xlabel('Predicted')\n",
        "plt.ylabel('True')\n",
        "plt.title('Confusion Matrix')\n",
        "plt.show()\n"
      ]
    }
  ],
  "metadata": {
    "accelerator": "GPU",
    "colab": {
      "gpuType": "T4",
      "provenance": []
    },
    "kernelspec": {
      "display_name": "Python 3",
      "name": "python3"
    },
    "language_info": {
      "name": "python"
    }
  },
  "nbformat": 4,
  "nbformat_minor": 0
}
